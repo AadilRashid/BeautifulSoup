{
  "nbformat": 4,
  "nbformat_minor": 0,
  "metadata": {
    "colab": {
      "name": "beautifulsoup.ipynb",
      "provenance": [],
      "toc_visible": true,
      "mount_file_id": "1z8hpN9YbYrNKqfXqGVxSGvTJhEKPV_tY",
      "authorship_tag": "ABX9TyOpb1WEZWv/lsRsKg9hauMJ",
      "include_colab_link": true
    },
    "kernelspec": {
      "display_name": "Python 3",
      "name": "python3"
    },
    "language_info": {
      "name": "python"
    }
  },
  "cells": [
    {
      "cell_type": "markdown",
      "metadata": {
        "id": "view-in-github",
        "colab_type": "text"
      },
      "source": [
        "<a href=\"https://colab.research.google.com/github/AadilRashid/testRepo/blob/master/beautifulsoup.ipynb\" target=\"_parent\"><img src=\"https://colab.research.google.com/assets/colab-badge.svg\" alt=\"Open In Colab\"/></a>"
      ]
    },
    {
      "cell_type": "code",
      "metadata": {
        "colab": {
          "base_uri": "https://localhost:8080/"
        },
        "id": "a6TmmIlqCdN9",
        "outputId": "ce989b6c-d133-4d26-e029-3815884b185e"
      },
      "source": [
        "cd /content/drive/MyDrive/zindi\n"
      ],
      "execution_count": null,
      "outputs": [
        {
          "output_type": "stream",
          "text": [
            "/content/drive/MyDrive/zindi\n"
          ],
          "name": "stdout"
        }
      ]
    },
    {
      "cell_type": "markdown",
      "metadata": {
        "id": "p7crJPfEp631"
      },
      "source": [
        "\n",
        "\n",
        "```\n",
        "# This is formatted as code\n",
        "```\n",
        "\n",
        "#Getting All the Links to visit"
      ]
    },
    {
      "cell_type": "code",
      "metadata": {
        "id": "XUBUMn-KppLA"
      },
      "source": [
        "from urllib.request import urlopen\n",
        "from bs4 import BeautifulSoup\n",
        "import re\n",
        "pages = set()\n",
        "\n",
        "def getLinksFromPages(n):\n",
        "    global pages\n",
        "    \n",
        "    for i in range(n):\n",
        "        html = urlopen('https://www.mwnation.com/section/chichewa/page/{}'.format(i+1))\n",
        "        bs = BeautifulSoup(html, 'html.parser')\n",
        "\n",
        "        for tags in bs.find_all('div',{'class':'jeg_postblock_content'}):\n",
        "        #print(tags.a)\n",
        "            if 'href' in tags.a.attrs and 'section' not in tags.a.attrs['href'] :\n",
        "                if tags.a.attrs['href'] not in pages:\n",
        "                    pages.add(tags.a.attrs['href'])\n",
        "\n",
        "\n",
        "getLinksFromPages(70)                    \n",
        "links= list(pages)                   "
      ],
      "execution_count": null,
      "outputs": []
    },
    {
      "cell_type": "markdown",
      "metadata": {
        "id": "cIaviZehqEW3"
      },
      "source": [
        "#storing The content"
      ]
    },
    {
      "cell_type": "code",
      "metadata": {
        "id": "WHHNT-pfqWvz"
      },
      "source": [
        "def getcontent(links):\n",
        "    from urllib.request import urlopen\n",
        "    from bs4 import BeautifulSoup\n",
        "    \n",
        "    with open(\"data/test5.txt\",'w',encoding = 'utf-8') as f:\n",
        "        for link in links:\n",
        "            l=[]\n",
        "            html = urlopen(link)\n",
        "            bs = BeautifulSoup(html.read(), 'html.parser')\n",
        "            try:\n",
        "                for b in bs.find('body').find_all('p',{'class':None})[0:-1]:\n",
        "                    l.append(re.sub(r\"\\xa0|/^\\s+|\\n|\\r|\\s+$/m\",\"\",b.getText().strip()))\n",
        "                    #print(l)  \n",
        "                #print(l)\n",
        "            except AttributeError:\n",
        "                print('This page is missing something! Continuing.')\n",
        "            else:\n",
        "                string = \"\".join(l)\n",
        "                string = string + '\\n'\n",
        "                f.write(string)     \n",
        "\n",
        "                "
      ],
      "execution_count": null,
      "outputs": []
    },
    {
      "cell_type": "code",
      "metadata": {
        "id": "rzvrRIEYFB3_"
      },
      "source": [
        "getcontent(links)"
      ],
      "execution_count": null,
      "outputs": []
    },
    {
      "cell_type": "code",
      "metadata": {
        "colab": {
          "base_uri": "https://localhost:8080/"
        },
        "id": "8rNHN3vSFNiN",
        "outputId": "5a519aeb-a265-4c46-a8da-af1a36db6a2d"
      },
      "source": [
        "string =\"abced\"\n",
        "string =string +'\\n'+\"a new one\"\n",
        "print(string)"
      ],
      "execution_count": null,
      "outputs": [
        {
          "output_type": "stream",
          "text": [
            "abced\n",
            "a new one\n"
          ],
          "name": "stdout"
        }
      ]
    },
    {
      "cell_type": "code",
      "metadata": {
        "id": "PmxfkfjhUeVf"
      },
      "source": [
        "with open(\"data/corpus.txt\",\"r\") as f:\n",
        "  cor = f.read()"
      ],
      "execution_count": null,
      "outputs": []
    },
    {
      "cell_type": "code",
      "metadata": {
        "id": "ItoUYCZe6_C7"
      },
      "source": [
        "processed_article = cor.lower()\n",
        "# processed_article = re.sub('[^a-zA-Z]+', ' ', processed_article )\n",
        "processed_article = re.sub(r'\"', ' ', processed_article)"
      ],
      "execution_count": null,
      "outputs": []
    },
    {
      "cell_type": "code",
      "metadata": {
        "id": "yKiY9Kv2FIpn"
      },
      "source": [
        "processed_article = processed_article.split(\"\\n\")"
      ],
      "execution_count": null,
      "outputs": []
    },
    {
      "cell_type": "code",
      "metadata": {
        "colab": {
          "base_uri": "https://localhost:8080/",
          "height": 227
        },
        "id": "ZT7EQRJzFSby",
        "outputId": "f4f6d293-e770-4029-879c-514a2384aeea"
      },
      "source": [
        "processed_article[200]"
      ],
      "execution_count": null,
      "outputs": [
        {
          "output_type": "execute_result",
          "data": {
            "application/vnd.google.colaboratory.intrinsic+json": {
              "type": "string"
            },
            "text/plain": [
              "'sankhani ‘mkango plus’ mkandawire adachoka ku nyasa big bullets chaka chino kupita ku tanzania komwe akusewera mbeya fc. iye adachoka limodzi ndi owen chaima ndipo ulendowo udali ndi zokamba zambiri. bobby kabango adacheza naye motere:tidziwe mbiri ya sankhani…ndimachokera ku dwangwa m’boma la nkhotakota. ndine wachisanu mwa ana 7. ndine wosakwatira koma posakhalitsapa mumva nthungululu. ena amanditchula mkango plus, dzinali adandipatsa ndi sapota wa bullets ati chifukwa omwetsa zigoli amavutika akakumana nane. ndidayamba kusewera bullets mu 2007 kuchokera ku dwangwa united. ndaseweranso carara kicks ku south africa.moyo uli bwanji ku mbeya?zonse zili bwino, moyo ndi choncho, pena ziwawe pena kukoma koma ndili bwino. ku mbeya ndikusewera pafupifupi masewero alionse.kuchoka kwako ku bullets padali zokamba zambiri, zidatere chifukwa chiyani?[waseka..] bobby aliyense amanena choncho koma pamene ndimachoka ku bullets n’kuti atagula [john] lanjesi, [emmanuel] zoya komanso adali ndi [miracle] gabeya omwe akadagwira ntchito yanga. kumbukiranso adali ndi george [nyirenda]. ndidaona kuti idali nthawi yabwino kusuntha chifukwa ndakhala ndi timuyi ilibe kanthu mpaka pamene ndimachoka itapeza ndalama.umawathawa anzakowa?ayinso, koma kuona moyo wanga komanso kutimuko kumalankhulidwa zambiri zomwe zikadasokoneza tsogolo langa ndiye ndidafuna ndisunthe kuti ndikaone zina.tinene kuti tcheya wakale sam chilunga ndiye adapangitsa?[waseka…] amene uja adali ndi masomphenya, sindingakuuzeni zambiri koma taganizani poyamba ndimalandira k33 000 ngati malipiro anga a pamwezi. anthu amatamanda za luso langa koma kumaposedwa ndalama ndi wonenerera basi, zoona izi? munthu uja adakweza malipiro ndiye padalakwika?umadandaula kuti chilunga adachotsedwa?ndizomvetsa chisoni kumene, tinene chilungamo chilunga adali kamuna. adapeza ma sponsor, adakweza ndalama yolandira tikasewera gemu komanso simungamumve chilunga akulankhula m’manyuzipepala kupempha thandizo.kodi ukudana ndi mtsogoleri wapanoyu noel lipipa?sindikuteronso, koma lipipa adziwe kuti akuyenera kukhala wa mphamvu chifukwa [bullets] imakhala yosiirana. aonetsetse kuti osewera akusangalala ndipo zikatere amupatsa zomwe akufuna, dzina lake litchulidwa paliponse chifukwa chilunga amaganizira osewera kwambiri.mawu ako ku bullets ndi wotani?tiyeni tipemphere kuti kamuzu barracks ipunthwe ndipo ife tipambane magemu atsala kuti titenge ligi. ine ndi wa maule ndipo kubwera kumudziko timu yanga ndi imeneyi. n'"
            ]
          },
          "metadata": {
            "tags": []
          },
          "execution_count": 68
        }
      ]
    },
    {
      "cell_type": "code",
      "metadata": {
        "id": "iJ8nYueNFfPa"
      },
      "source": [
        "import re,nltk\n",
        "\n",
        "\n",
        "\n",
        "# Preparing the dataset\n",
        "from tensorflow.keras.preprocessing.text import Tokenizer\n",
        "from tensorflow.keras.preprocessing.sequence import pad_sequences\n",
        "\n",
        "maxlen = 3000\n",
        "# training_samples = 10000 \n",
        "max_words = 50000   #35 for 1000, 30 for 3000 when maxlen was 500. dim = 10\n",
        "\n",
        "tokenizer = Tokenizer(num_words=max_words,oov_token=\"<OOV>\")#keeps only most frequent words\n",
        "tokenizer.fit_on_texts(processed_article)\n",
        "word_index = tokenizer.word_index\n",
        "sequences = tokenizer.texts_to_sequences(processed_article)\n",
        "#vect_data = pad_sequences(sequences, maxlen=maxlen)\n",
        "\n",
        "data = pad_sequences(sequences)\n"
      ],
      "execution_count": null,
      "outputs": []
    },
    {
      "cell_type": "code",
      "metadata": {
        "colab": {
          "base_uri": "https://localhost:8080/"
        },
        "id": "JmLfPjPC6L6_",
        "outputId": "2055296f-24ab-4ab1-8716-dedbb2300cdc"
      },
      "source": [
        "data[0]"
      ],
      "execution_count": null,
      "outputs": [
        {
          "output_type": "execute_result",
          "data": {
            "text/plain": [
              "array([0.      , 0.      , 0.      , ..., 0.      , 0.001153, 0.      ],\n",
              "      dtype=float16)"
            ]
          },
          "metadata": {
            "tags": []
          },
          "execution_count": 75
        }
      ]
    },
    {
      "cell_type": "code",
      "metadata": {
        "id": "o45HKC_zGDua"
      },
      "source": [
        "from gensim.models import Word2Vec\n",
        "word2vec = Word2Vec(data, min_count=2)\n"
      ],
      "execution_count": null,
      "outputs": []
    },
    {
      "cell_type": "code",
      "metadata": {
        "id": "4Vzt37o6Ja6i",
        "colab": {
          "base_uri": "https://localhost:8080/"
        },
        "outputId": "1c777d17-009f-4b4c-9f5a-8eaf82637f79"
      },
      "source": [
        "vocabulary = word2vec.wv.vocab\n",
        "print(vocabulary)"
      ],
      "execution_count": null,
      "outputs": [
        {
          "output_type": "stream",
          "text": [
            "{'O': <gensim.models.keyedvectors.Vocab object at 0x7ff137be8e10>, 'n': <gensim.models.keyedvectors.Vocab object at 0x7ff137be8fd0>, 'd': <gensim.models.keyedvectors.Vocab object at 0x7ff137be8d10>, 'i': <gensim.models.keyedvectors.Vocab object at 0x7ff137be88d0>, 'k': <gensim.models.keyedvectors.Vocab object at 0x7ff137c2ea90>, 'u': <gensim.models.keyedvectors.Vocab object at 0x7ff137bef350>, 't': <gensim.models.keyedvectors.Vocab object at 0x7ff137bef2d0>, 'w': <gensim.models.keyedvectors.Vocab object at 0x7ff137bef150>, 'a': <gensim.models.keyedvectors.Vocab object at 0x7ff137be8d90>, 'y': <gensim.models.keyedvectors.Vocab object at 0x7ff137bef590>, 'p': <gensim.models.keyedvectors.Vocab object at 0x7ff137befed0>, 'l': <gensim.models.keyedvectors.Vocab object at 0x7ff137bef310>, 'h': <gensim.models.keyedvectors.Vocab object at 0x7ff137bef210>, 'o': <gensim.models.keyedvectors.Vocab object at 0x7ff137bef3d0>, 'z': <gensim.models.keyedvectors.Vocab object at 0x7ff137befc90>, 'm': <gensim.models.keyedvectors.Vocab object at 0x7ff137befa10>, 'c': <gensim.models.keyedvectors.Vocab object at 0x7ff137bef610>, 'f': <gensim.models.keyedvectors.Vocab object at 0x7ff137bef250>, 's': <gensim.models.keyedvectors.Vocab object at 0x7ff137beff90>, 'e': <gensim.models.keyedvectors.Vocab object at 0x7ff137befb50>, 'r': <gensim.models.keyedvectors.Vocab object at 0x7ff137beff50>, 'g': <gensim.models.keyedvectors.Vocab object at 0x7ff137befc10>, 'b': <gensim.models.keyedvectors.Vocab object at 0x7ff137380e90>, '”': <gensim.models.keyedvectors.Vocab object at 0x7ff137380350>, '0': <gensim.models.keyedvectors.Vocab object at 0x7ff137380ed0>, 'v': <gensim.models.keyedvectors.Vocab object at 0x7ff137380c50>, 'j': <gensim.models.keyedvectors.Vocab object at 0x7ff137380450>, '’': <gensim.models.keyedvectors.Vocab object at 0x7ff137380210>, '1': <gensim.models.keyedvectors.Vocab object at 0x7ff137380a50>, '6': <gensim.models.keyedvectors.Vocab object at 0x7ff137380e10>, '5': <gensim.models.keyedvectors.Vocab object at 0x7ff137380990>, '9': <gensim.models.keyedvectors.Vocab object at 0x7ff137380b90>, '2': <gensim.models.keyedvectors.Vocab object at 0x7ff137380d90>, '4': <gensim.models.keyedvectors.Vocab object at 0x7ff137380c90>, '7': <gensim.models.keyedvectors.Vocab object at 0x7ff137380a90>, '8': <gensim.models.keyedvectors.Vocab object at 0x7ff137380dd0>, '3': <gensim.models.keyedvectors.Vocab object at 0x7ff1373806d0>, 'q': <gensim.models.keyedvectors.Vocab object at 0x7ff137380610>, '“': <gensim.models.keyedvectors.Vocab object at 0x7ff137380f10>, 'x': <gensim.models.keyedvectors.Vocab object at 0x7ff137380890>, '–': <gensim.models.keyedvectors.Vocab object at 0x7ff1373802d0>, '…': <gensim.models.keyedvectors.Vocab object at 0x7ff137380190>, '‘': <gensim.models.keyedvectors.Vocab object at 0x7ff137380bd0>, '—': <gensim.models.keyedvectors.Vocab object at 0x7ff137380910>, 'é': <gensim.models.keyedvectors.Vocab object at 0x7ff137380290>, '£': <gensim.models.keyedvectors.Vocab object at 0x7ff137380710>, 'ç': <gensim.models.keyedvectors.Vocab object at 0x7ff137380ad0>, '˚': <gensim.models.keyedvectors.Vocab object at 0x7ff137380390>, '\\xad': <gensim.models.keyedvectors.Vocab object at 0x7ff137380d10>}\n"
          ],
          "name": "stdout"
        }
      ]
    },
    {
      "cell_type": "code",
      "metadata": {
        "colab": {
          "base_uri": "https://localhost:8080/",
          "height": 330
        },
        "id": "vgNjSG2cMKDk",
        "outputId": "eee14657-7728-4ccd-d627-3cd531e6f495"
      },
      "source": [
        "v1 = word2vec.wv['artificial']"
      ],
      "execution_count": null,
      "outputs": [
        {
          "output_type": "error",
          "ename": "KeyError",
          "evalue": "ignored",
          "traceback": [
            "\u001b[0;31m---------------------------------------------------------------------------\u001b[0m",
            "\u001b[0;31mKeyError\u001b[0m                                  Traceback (most recent call last)",
            "\u001b[0;32m<ipython-input-71-7832ec01835d>\u001b[0m in \u001b[0;36m<module>\u001b[0;34m()\u001b[0m\n\u001b[0;32m----> 1\u001b[0;31m \u001b[0mv1\u001b[0m \u001b[0;34m=\u001b[0m \u001b[0mword2vec\u001b[0m\u001b[0;34m.\u001b[0m\u001b[0mwv\u001b[0m\u001b[0;34m[\u001b[0m\u001b[0;34m'artificial'\u001b[0m\u001b[0;34m]\u001b[0m\u001b[0;34m\u001b[0m\u001b[0;34m\u001b[0m\u001b[0m\n\u001b[0m",
            "\u001b[0;32m/usr/local/lib/python3.7/dist-packages/gensim/models/keyedvectors.py\u001b[0m in \u001b[0;36m__getitem__\u001b[0;34m(self, entities)\u001b[0m\n\u001b[1;32m    335\u001b[0m         \u001b[0;32mif\u001b[0m \u001b[0misinstance\u001b[0m\u001b[0;34m(\u001b[0m\u001b[0mentities\u001b[0m\u001b[0;34m,\u001b[0m \u001b[0mstring_types\u001b[0m\u001b[0;34m)\u001b[0m\u001b[0;34m:\u001b[0m\u001b[0;34m\u001b[0m\u001b[0;34m\u001b[0m\u001b[0m\n\u001b[1;32m    336\u001b[0m             \u001b[0;31m# allow calls like trained_model['office'], as a shorthand for trained_model[['office']]\u001b[0m\u001b[0;34m\u001b[0m\u001b[0;34m\u001b[0m\u001b[0;34m\u001b[0m\u001b[0m\n\u001b[0;32m--> 337\u001b[0;31m             \u001b[0;32mreturn\u001b[0m \u001b[0mself\u001b[0m\u001b[0;34m.\u001b[0m\u001b[0mget_vector\u001b[0m\u001b[0;34m(\u001b[0m\u001b[0mentities\u001b[0m\u001b[0;34m)\u001b[0m\u001b[0;34m\u001b[0m\u001b[0;34m\u001b[0m\u001b[0m\n\u001b[0m\u001b[1;32m    338\u001b[0m \u001b[0;34m\u001b[0m\u001b[0m\n\u001b[1;32m    339\u001b[0m         \u001b[0;32mreturn\u001b[0m \u001b[0mvstack\u001b[0m\u001b[0;34m(\u001b[0m\u001b[0;34m[\u001b[0m\u001b[0mself\u001b[0m\u001b[0;34m.\u001b[0m\u001b[0mget_vector\u001b[0m\u001b[0;34m(\u001b[0m\u001b[0mentity\u001b[0m\u001b[0;34m)\u001b[0m \u001b[0;32mfor\u001b[0m \u001b[0mentity\u001b[0m \u001b[0;32min\u001b[0m \u001b[0mentities\u001b[0m\u001b[0;34m]\u001b[0m\u001b[0;34m)\u001b[0m\u001b[0;34m\u001b[0m\u001b[0;34m\u001b[0m\u001b[0m\n",
            "\u001b[0;32m/usr/local/lib/python3.7/dist-packages/gensim/models/keyedvectors.py\u001b[0m in \u001b[0;36mget_vector\u001b[0;34m(self, word)\u001b[0m\n\u001b[1;32m    453\u001b[0m \u001b[0;34m\u001b[0m\u001b[0m\n\u001b[1;32m    454\u001b[0m     \u001b[0;32mdef\u001b[0m \u001b[0mget_vector\u001b[0m\u001b[0;34m(\u001b[0m\u001b[0mself\u001b[0m\u001b[0;34m,\u001b[0m \u001b[0mword\u001b[0m\u001b[0;34m)\u001b[0m\u001b[0;34m:\u001b[0m\u001b[0;34m\u001b[0m\u001b[0;34m\u001b[0m\u001b[0m\n\u001b[0;32m--> 455\u001b[0;31m         \u001b[0;32mreturn\u001b[0m \u001b[0mself\u001b[0m\u001b[0;34m.\u001b[0m\u001b[0mword_vec\u001b[0m\u001b[0;34m(\u001b[0m\u001b[0mword\u001b[0m\u001b[0;34m)\u001b[0m\u001b[0;34m\u001b[0m\u001b[0;34m\u001b[0m\u001b[0m\n\u001b[0m\u001b[1;32m    456\u001b[0m \u001b[0;34m\u001b[0m\u001b[0m\n\u001b[1;32m    457\u001b[0m     \u001b[0;32mdef\u001b[0m \u001b[0mwords_closer_than\u001b[0m\u001b[0;34m(\u001b[0m\u001b[0mself\u001b[0m\u001b[0;34m,\u001b[0m \u001b[0mw1\u001b[0m\u001b[0;34m,\u001b[0m \u001b[0mw2\u001b[0m\u001b[0;34m)\u001b[0m\u001b[0;34m:\u001b[0m\u001b[0;34m\u001b[0m\u001b[0;34m\u001b[0m\u001b[0m\n",
            "\u001b[0;32m/usr/local/lib/python3.7/dist-packages/gensim/models/keyedvectors.py\u001b[0m in \u001b[0;36mword_vec\u001b[0;34m(self, word, use_norm)\u001b[0m\n\u001b[1;32m    450\u001b[0m             \u001b[0;32mreturn\u001b[0m \u001b[0mresult\u001b[0m\u001b[0;34m\u001b[0m\u001b[0;34m\u001b[0m\u001b[0m\n\u001b[1;32m    451\u001b[0m         \u001b[0;32melse\u001b[0m\u001b[0;34m:\u001b[0m\u001b[0;34m\u001b[0m\u001b[0;34m\u001b[0m\u001b[0m\n\u001b[0;32m--> 452\u001b[0;31m             \u001b[0;32mraise\u001b[0m \u001b[0mKeyError\u001b[0m\u001b[0;34m(\u001b[0m\u001b[0;34m\"word '%s' not in vocabulary\"\u001b[0m \u001b[0;34m%\u001b[0m \u001b[0mword\u001b[0m\u001b[0;34m)\u001b[0m\u001b[0;34m\u001b[0m\u001b[0;34m\u001b[0m\u001b[0m\n\u001b[0m\u001b[1;32m    453\u001b[0m \u001b[0;34m\u001b[0m\u001b[0m\n\u001b[1;32m    454\u001b[0m     \u001b[0;32mdef\u001b[0m \u001b[0mget_vector\u001b[0m\u001b[0;34m(\u001b[0m\u001b[0mself\u001b[0m\u001b[0;34m,\u001b[0m \u001b[0mword\u001b[0m\u001b[0;34m)\u001b[0m\u001b[0;34m:\u001b[0m\u001b[0;34m\u001b[0m\u001b[0;34m\u001b[0m\u001b[0m\n",
            "\u001b[0;31mKeyError\u001b[0m: \"word 'artificial' not in vocabulary\""
          ]
        }
      ]
    },
    {
      "cell_type": "code",
      "metadata": {
        "id": "z4YWiQZbMWS5"
      },
      "source": [
        ""
      ],
      "execution_count": null,
      "outputs": []
    }
  ]
}